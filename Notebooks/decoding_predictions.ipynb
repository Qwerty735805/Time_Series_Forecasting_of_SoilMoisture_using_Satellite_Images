{
 "cells": [
  {
   "cell_type": "code",
   "execution_count": 217,
   "metadata": {
    "id": "3h_3VCsyFxep"
   },
   "outputs": [],
   "source": [
    "import os\n",
    "import numpy as np\n",
    "import matplotlib\n",
    "import matplotlib.pyplot as plt\n",
    "import tensorflow as tf\n",
    "import skimage\n",
    "from skimage.io import imread,imshow\n",
    "import glob\n",
    "import pandas as pd\n",
    "import pickle\n",
    "import time\n",
    "from sklearn.preprocessing import MinMaxScaler"
   ]
  },
  {
   "cell_type": "code",
   "execution_count": null,
   "metadata": {
    "colab": {
     "base_uri": "https://localhost:8080/",
     "height": 34
    },
    "id": "3zXCE9fdF2Th",
    "outputId": "6c93af44-241c-4be8-d7ce-3651ffabe692"
   },
   "outputs": [
    {
     "name": "stdout",
     "output_type": "stream",
     "text": [
      "Mounted at /content/drive\n"
     ]
    }
   ],
   "source": [
    "# from google.colab import drive\n",
    "# drive.mount('/content/drive')"
   ]
  },
  {
   "cell_type": "code",
   "execution_count": null,
   "metadata": {
    "colab": {
     "base_uri": "https://localhost:8080/",
     "height": 34
    },
    "id": "OJAdeNv8GB2A",
    "outputId": "ad86f5cb-61b5-4a43-ffa6-7e46f6593fce"
   },
   "outputs": [
    {
     "name": "stdout",
     "output_type": "stream",
     "text": [
      "/content/drive/My Drive/BTP\n"
     ]
    }
   ],
   "source": [
    "# cd drive/My Drive/BTP"
   ]
  },
  {
   "cell_type": "code",
   "execution_count": 199,
   "metadata": {
    "id": "GlVLIf1mFxet"
   },
   "outputs": [],
   "source": [
    "df=pd.read_csv(r'Results/E3D3/1.csv')"
   ]
  },
  {
   "cell_type": "code",
   "execution_count": 200,
   "metadata": {},
   "outputs": [],
   "source": [
    "with open('Data/imputed_valid_data.pkl', 'rb') as picklefile:\n",
    "    valid_data=pickle.load(picklefile)\n",
    "\n",
    "with open('Models/DR/trainedPCA.pkl', 'rb') as picklefile:\n",
    "    pca=pickle.load(picklefile)"
   ]
  },
  {
   "cell_type": "code",
   "execution_count": 191,
   "metadata": {
    "colab": {
     "base_uri": "https://localhost:8080/",
     "height": 70
    },
    "id": "BldtTpcvFxev",
    "outputId": "677f17fa-ce8e-4c7c-d5e4-1b8ae09de6c8"
   },
   "outputs": [],
   "source": [
    "with open('Models/DR/trainedPCA.pkl', 'rb') as picklefile:\n",
    "    pca=pickle.load(picklefile)"
   ]
  },
  {
   "cell_type": "code",
   "execution_count": 201,
   "metadata": {},
   "outputs": [
    {
     "data": {
      "text/html": [
       "<div>\n",
       "<style scoped>\n",
       "    .dataframe tbody tr th:only-of-type {\n",
       "        vertical-align: middle;\n",
       "    }\n",
       "\n",
       "    .dataframe tbody tr th {\n",
       "        vertical-align: top;\n",
       "    }\n",
       "\n",
       "    .dataframe thead th {\n",
       "        text-align: right;\n",
       "    }\n",
       "</style>\n",
       "<table border=\"1\" class=\"dataframe\">\n",
       "  <thead>\n",
       "    <tr style=\"text-align: right;\">\n",
       "      <th></th>\n",
       "      <th>date</th>\n",
       "      <th>unit1</th>\n",
       "      <th>unit2</th>\n",
       "      <th>unit3</th>\n",
       "      <th>unit4</th>\n",
       "      <th>unit5</th>\n",
       "      <th>unit6</th>\n",
       "      <th>unit7</th>\n",
       "      <th>unit8</th>\n",
       "      <th>unit9</th>\n",
       "      <th>...</th>\n",
       "      <th>unit578</th>\n",
       "      <th>unit579</th>\n",
       "      <th>unit580</th>\n",
       "      <th>unit581</th>\n",
       "      <th>unit582</th>\n",
       "      <th>unit583</th>\n",
       "      <th>unit584</th>\n",
       "      <th>unit585</th>\n",
       "      <th>unit586</th>\n",
       "      <th>unit587</th>\n",
       "    </tr>\n",
       "  </thead>\n",
       "  <tbody>\n",
       "    <tr>\n",
       "      <th>0</th>\n",
       "      <td>2020-07-08</td>\n",
       "      <td>37.893044</td>\n",
       "      <td>-6.626562</td>\n",
       "      <td>-14.363065</td>\n",
       "      <td>-2.899816</td>\n",
       "      <td>-6.745531</td>\n",
       "      <td>-4.564622</td>\n",
       "      <td>8.635415</td>\n",
       "      <td>11.501621</td>\n",
       "      <td>-5.259525</td>\n",
       "      <td>...</td>\n",
       "      <td>0.013795</td>\n",
       "      <td>-0.062003</td>\n",
       "      <td>-0.020977</td>\n",
       "      <td>-0.006206</td>\n",
       "      <td>-0.125612</td>\n",
       "      <td>0.071071</td>\n",
       "      <td>-0.036371</td>\n",
       "      <td>-0.160064</td>\n",
       "      <td>-0.007864</td>\n",
       "      <td>0.074677</td>\n",
       "    </tr>\n",
       "    <tr>\n",
       "      <th>1</th>\n",
       "      <td>2020-07-09</td>\n",
       "      <td>37.355618</td>\n",
       "      <td>-7.616899</td>\n",
       "      <td>-14.694006</td>\n",
       "      <td>-2.867782</td>\n",
       "      <td>-6.573371</td>\n",
       "      <td>-4.424226</td>\n",
       "      <td>9.087059</td>\n",
       "      <td>11.273763</td>\n",
       "      <td>-4.979779</td>\n",
       "      <td>...</td>\n",
       "      <td>0.019160</td>\n",
       "      <td>-0.069404</td>\n",
       "      <td>-0.024627</td>\n",
       "      <td>-0.007495</td>\n",
       "      <td>-0.127096</td>\n",
       "      <td>0.077193</td>\n",
       "      <td>-0.044566</td>\n",
       "      <td>-0.158863</td>\n",
       "      <td>-0.006555</td>\n",
       "      <td>0.074795</td>\n",
       "    </tr>\n",
       "    <tr>\n",
       "      <th>2</th>\n",
       "      <td>2020-07-10</td>\n",
       "      <td>36.788560</td>\n",
       "      <td>-8.494826</td>\n",
       "      <td>-15.200465</td>\n",
       "      <td>-2.829158</td>\n",
       "      <td>-6.362743</td>\n",
       "      <td>-4.255680</td>\n",
       "      <td>9.390262</td>\n",
       "      <td>11.033648</td>\n",
       "      <td>-4.891525</td>\n",
       "      <td>...</td>\n",
       "      <td>0.022288</td>\n",
       "      <td>-0.074822</td>\n",
       "      <td>-0.026745</td>\n",
       "      <td>-0.007124</td>\n",
       "      <td>-0.128734</td>\n",
       "      <td>0.080094</td>\n",
       "      <td>-0.047821</td>\n",
       "      <td>-0.154385</td>\n",
       "      <td>-0.007464</td>\n",
       "      <td>0.073396</td>\n",
       "    </tr>\n",
       "    <tr>\n",
       "      <th>3</th>\n",
       "      <td>2020-07-11</td>\n",
       "      <td>36.864944</td>\n",
       "      <td>-8.954903</td>\n",
       "      <td>-15.640271</td>\n",
       "      <td>-2.644531</td>\n",
       "      <td>-6.268304</td>\n",
       "      <td>-4.096462</td>\n",
       "      <td>9.598229</td>\n",
       "      <td>10.758110</td>\n",
       "      <td>-4.770917</td>\n",
       "      <td>...</td>\n",
       "      <td>0.024214</td>\n",
       "      <td>-0.080978</td>\n",
       "      <td>-0.030006</td>\n",
       "      <td>-0.004581</td>\n",
       "      <td>-0.128664</td>\n",
       "      <td>0.086246</td>\n",
       "      <td>-0.049963</td>\n",
       "      <td>-0.147106</td>\n",
       "      <td>-0.006631</td>\n",
       "      <td>0.066907</td>\n",
       "    </tr>\n",
       "    <tr>\n",
       "      <th>4</th>\n",
       "      <td>2020-07-12</td>\n",
       "      <td>37.074740</td>\n",
       "      <td>-9.451205</td>\n",
       "      <td>-16.068499</td>\n",
       "      <td>-2.553373</td>\n",
       "      <td>-6.172836</td>\n",
       "      <td>-3.813950</td>\n",
       "      <td>9.689317</td>\n",
       "      <td>10.404470</td>\n",
       "      <td>-4.733233</td>\n",
       "      <td>...</td>\n",
       "      <td>0.025154</td>\n",
       "      <td>-0.088374</td>\n",
       "      <td>-0.030111</td>\n",
       "      <td>-0.001729</td>\n",
       "      <td>-0.129345</td>\n",
       "      <td>0.091305</td>\n",
       "      <td>-0.049953</td>\n",
       "      <td>-0.141751</td>\n",
       "      <td>-0.006511</td>\n",
       "      <td>0.060997</td>\n",
       "    </tr>\n",
       "  </tbody>\n",
       "</table>\n",
       "<p>5 rows × 588 columns</p>\n",
       "</div>"
      ],
      "text/plain": [
       "         date      unit1     unit2      unit3     unit4     unit5     unit6  \\\n",
       "0  2020-07-08  37.893044 -6.626562 -14.363065 -2.899816 -6.745531 -4.564622   \n",
       "1  2020-07-09  37.355618 -7.616899 -14.694006 -2.867782 -6.573371 -4.424226   \n",
       "2  2020-07-10  36.788560 -8.494826 -15.200465 -2.829158 -6.362743 -4.255680   \n",
       "3  2020-07-11  36.864944 -8.954903 -15.640271 -2.644531 -6.268304 -4.096462   \n",
       "4  2020-07-12  37.074740 -9.451205 -16.068499 -2.553373 -6.172836 -3.813950   \n",
       "\n",
       "      unit7      unit8     unit9  ...   unit578   unit579   unit580   unit581  \\\n",
       "0  8.635415  11.501621 -5.259525  ...  0.013795 -0.062003 -0.020977 -0.006206   \n",
       "1  9.087059  11.273763 -4.979779  ...  0.019160 -0.069404 -0.024627 -0.007495   \n",
       "2  9.390262  11.033648 -4.891525  ...  0.022288 -0.074822 -0.026745 -0.007124   \n",
       "3  9.598229  10.758110 -4.770917  ...  0.024214 -0.080978 -0.030006 -0.004581   \n",
       "4  9.689317  10.404470 -4.733233  ...  0.025154 -0.088374 -0.030111 -0.001729   \n",
       "\n",
       "    unit582   unit583   unit584   unit585   unit586   unit587  \n",
       "0 -0.125612  0.071071 -0.036371 -0.160064 -0.007864  0.074677  \n",
       "1 -0.127096  0.077193 -0.044566 -0.158863 -0.006555  0.074795  \n",
       "2 -0.128734  0.080094 -0.047821 -0.154385 -0.007464  0.073396  \n",
       "3 -0.128664  0.086246 -0.049963 -0.147106 -0.006631  0.066907  \n",
       "4 -0.129345  0.091305 -0.049953 -0.141751 -0.006511  0.060997  \n",
       "\n",
       "[5 rows x 588 columns]"
      ]
     },
     "execution_count": 201,
     "metadata": {},
     "output_type": "execute_result"
    }
   ],
   "source": [
    "df.head()"
   ]
  },
  {
   "cell_type": "code",
   "execution_count": 202,
   "metadata": {
    "id": "dlMZWJH8Fxe1"
   },
   "outputs": [],
   "source": [
    "daf=df.drop(['date'],axis='columns')"
   ]
  },
  {
   "cell_type": "code",
   "execution_count": 203,
   "metadata": {
    "id": "eEo9jcSHFxe3"
   },
   "outputs": [],
   "source": [
    "fpred=pca.inverse_transform(daf.values)"
   ]
  },
  {
   "cell_type": "code",
   "execution_count": 205,
   "metadata": {
    "id": "El3BcUJRFxe8"
   },
   "outputs": [],
   "source": [
    "ad=np.reshape(fpred,(len(fpred),256,272,1))"
   ]
  },
  {
   "cell_type": "code",
   "execution_count": 206,
   "metadata": {
    "colab": {
     "base_uri": "https://localhost:8080/",
     "height": 34
    },
    "id": "33Vqxk7bFxe-",
    "outputId": "3e1219cb-d200-49c0-c596-cbee2a48739b"
   },
   "outputs": [
    {
     "data": {
      "text/plain": [
       "(88, 256, 272, 1)"
      ]
     },
     "execution_count": 206,
     "metadata": {},
     "output_type": "execute_result"
    }
   ],
   "source": [
    "ad.shape  "
   ]
  },
  {
   "cell_type": "code",
   "execution_count": 204,
   "metadata": {
    "colab": {
     "base_uri": "https://localhost:8080/",
     "height": 34
    },
    "id": "Y9y7rXgTFxe5",
    "outputId": "6b54ae66-5ac6-494b-cbcc-e9aad54a799a"
   },
   "outputs": [
    {
     "data": {
      "text/plain": [
       "(88, 69632)"
      ]
     },
     "execution_count": 204,
     "metadata": {},
     "output_type": "execute_result"
    }
   ],
   "source": [
    "fpred.shape"
   ]
  },
  {
   "cell_type": "code",
   "execution_count": 207,
   "metadata": {
    "id": "HjzJ9ggeFxfA"
   },
   "outputs": [],
   "source": [
    "for i,date in enumerate(df['date'].values):\n",
    "    scaler = MinMaxScaler(feature_range=(0, 1))\n",
    "    img = scaler.fit_transform(abs(fpred[i]).reshape(-1,1))\n",
    "    img=np.reshape(img,(256,272))\n",
    "    ad[i]=img.reshape((256,272,1))\n",
    "    matplotlib.image.imsave('Final Pred/E3D3/'+date+'.jpg', img,cmap='gray')\n",
    "    time.sleep(0.1)\n",
    "    # break"
   ]
  },
  {
   "cell_type": "code",
   "execution_count": 208,
   "metadata": {},
   "outputs": [],
   "source": [
    "valid_data = valid_data[45:-6]"
   ]
  },
  {
   "cell_type": "markdown",
   "metadata": {
    "id": "LYChaUioFxfC"
   },
   "source": [
    "### Score"
   ]
  },
  {
   "cell_type": "code",
   "execution_count": 209,
   "metadata": {
    "id": "CdfMuuGAFxfC"
   },
   "outputs": [],
   "source": [
    "from skimage.measure import compare_ssim as ssim\n",
    "\n",
    "def SSIM(y_true, y_pred):\n",
    "    return tf.reduce_mean(ssim(y_true, y_pred,multichannel=True))\n",
    "\n",
    "def PSNR(y_true, y_pred):\n",
    "    return tf.reduce_mean(tf.image.psnr(y_true, y_pred, 1.0))"
   ]
  },
  {
   "cell_type": "code",
   "execution_count": 210,
   "metadata": {
    "id": "7kgErzuQFxfH"
   },
   "outputs": [
    {
     "name": "stdout",
     "output_type": "stream",
     "text": [
      "0.05473658267395201\n"
     ]
    }
   ],
   "source": [
    "from sklearn.metrics import mean_absolute_error,r2_score\n",
    "print(mean_absolute_error(valid_data.reshape((len(valid_data),256*272)),ad.reshape((len(valid_data),256*272))))"
   ]
  },
  {
   "cell_type": "code",
   "execution_count": 211,
   "metadata": {
    "id": "t_S7m-BrFxfM"
   },
   "outputs": [],
   "source": [
    "ps = tf.image.psnr(valid_data,ad, 1)"
   ]
  },
  {
   "cell_type": "code",
   "execution_count": 212,
   "metadata": {
    "id": "uneuQGhNP1hg"
   },
   "outputs": [
    {
     "data": {
      "text/plain": [
       "17.88011"
      ]
     },
     "execution_count": 212,
     "metadata": {},
     "output_type": "execute_result"
    }
   ],
   "source": [
    "ps.numpy().mean()"
   ]
  },
  {
   "cell_type": "code",
   "execution_count": 213,
   "metadata": {
    "id": "bc9ODZOVFxfO"
   },
   "outputs": [],
   "source": [
    "ss=[]\n",
    "for i in range(0,len(valid_data)):\n",
    "  # print(i)\n",
    "  ss.append(ssim(valid_data[i],ad[i],multichannel=True))"
   ]
  },
  {
   "cell_type": "code",
   "execution_count": 214,
   "metadata": {
    "id": "AS0tly-WOI2l"
   },
   "outputs": [
    {
     "data": {
      "text/plain": [
       "0.8534157710800195"
      ]
     },
     "execution_count": 214,
     "metadata": {},
     "output_type": "execute_result"
    }
   ],
   "source": [
    "sum(ss)/len(ss)"
   ]
  }
 ],
 "metadata": {
  "colab": {
   "name": "decoding predictions.ipynb",
   "provenance": []
  },
  "kernelspec": {
   "display_name": "Python 3",
   "language": "python",
   "name": "python3"
  },
  "language_info": {
   "codemirror_mode": {
    "name": "ipython",
    "version": 3
   },
   "file_extension": ".py",
   "mimetype": "text/x-python",
   "name": "python",
   "nbconvert_exporter": "python",
   "pygments_lexer": "ipython3",
   "version": "3.7.3"
  }
 },
 "nbformat": 4,
 "nbformat_minor": 1
}
