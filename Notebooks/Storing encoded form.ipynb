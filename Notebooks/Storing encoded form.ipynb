{
 "cells": [
  {
   "cell_type": "code",
   "execution_count": 1,
   "metadata": {},
   "outputs": [],
   "source": [
    "import os\n",
    "import cv2\n",
    "import numpy as np\n",
    "import matplotlib\n",
    "import matplotlib.pyplot as plt\n",
    "import skimage\n",
    "from skimage.io import imread\n",
    "from skimage.transform import resize\n",
    "import glob\n",
    "import pandas as pd\n",
    "from tqdm import tqdm\n",
    "import pickle"
   ]
  },
  {
   "cell_type": "code",
   "execution_count": 2,
   "metadata": {},
   "outputs": [],
   "source": [
    "with open('Models/DR/trainedPCA.pkl', 'rb') as picklefile:\n",
    "    pca=pickle.load(picklefile)\n",
    "    \n",
    "with open('Data/imputed_valid_data.pkl', 'rb') as picklefile:\n",
    "    valid_data=pickle.load(picklefile)\n",
    "\n",
    "with open('Data/imputed_train_data.pkl', 'rb') as picklefile:\n",
    "    train_data=pickle.load(picklefile)    \n",
    "    \n",
    "with open('valid_dates.pkl', 'rb') as picklefile:\n",
    "    valid_dates=pickle.load(picklefile)\n",
    "\n",
    "with open('train_dates.pkl', 'rb') as picklefile:\n",
    "    train_dates=pickle.load(picklefile)        "
   ]
  },
  {
   "cell_type": "code",
   "execution_count": 3,
   "metadata": {},
   "outputs": [],
   "source": [
    "columns=[]\n",
    "for i in range(1,1 + pca.n_components_):\n",
    "    columns.append('unit'+str(i))"
   ]
  },
  {
   "cell_type": "code",
   "execution_count": 5,
   "metadata": {},
   "outputs": [],
   "source": [
    "train_df=pd.DataFrame(columns=columns)\n",
    "valid_df=pd.DataFrame(columns=columns)"
   ]
  },
  {
   "cell_type": "code",
   "execution_count": 6,
   "metadata": {},
   "outputs": [],
   "source": [
    "train_df.insert(0, \"date\",[])\n",
    "valid_df.insert(0, \"date\",[])"
   ]
  },
  {
   "cell_type": "code",
   "execution_count": 7,
   "metadata": {
    "scrolled": true
   },
   "outputs": [
    {
     "name": "stderr",
     "output_type": "stream",
     "text": [
      "1822it [02:13, 13.69it/s]\n"
     ]
    }
   ],
   "source": [
    "for date,img in tqdm(zip(train_dates,train_data)):\n",
    "    encoded_img = pca.transform(img.reshape(1,256*272))\n",
    "    encoded_img=np.reshape(encoded_img,(pca.n_components_))\n",
    "    temp_dict={}\n",
    "    temp_dict['date']= date\n",
    "    count=0\n",
    "    for i in encoded_img:\n",
    "        temp_dict['unit'+str(count+1)]=i\n",
    "        count=count+1    \n",
    "    train_df = train_df.append(temp_dict,ignore_index=True)"
   ]
  },
  {
   "cell_type": "code",
   "execution_count": 22,
   "metadata": {
    "scrolled": true
   },
   "outputs": [
    {
     "name": "stderr",
     "output_type": "stream",
     "text": [
      "139it [00:09, 14.21it/s]\n"
     ]
    }
   ],
   "source": [
    "for date,img in tqdm(zip(valid_dates,valid_data)):\n",
    "    encoded_img = pca.transform(img.reshape(1,256*272))\n",
    "    encoded_img=np.reshape(encoded_img,(pca.n_components_))\n",
    "    temp_dict={}\n",
    "    temp_dict['date']= date\n",
    "    count=0\n",
    "    for i in encoded_img:\n",
    "        temp_dict['unit'+str(count+1)]=i\n",
    "        count=count+1    \n",
    "    valid_df = valid_df.append(temp_dict,ignore_index=True)"
   ]
  },
  {
   "cell_type": "code",
   "execution_count": 23,
   "metadata": {},
   "outputs": [],
   "source": [
    "train_df.to_csv(r'imputed_train_encoded_data.csv', index = False)"
   ]
  },
  {
   "cell_type": "code",
   "execution_count": 24,
   "metadata": {},
   "outputs": [],
   "source": [
    "valid_df.to_csv(r'imputed_valid_encoded_data.csv', index = False)"
   ]
  },
  {
   "cell_type": "code",
   "execution_count": null,
   "metadata": {},
   "outputs": [],
   "source": []
  }
 ],
 "metadata": {
  "kernelspec": {
   "display_name": "Python 3",
   "language": "python",
   "name": "python3"
  },
  "language_info": {
   "codemirror_mode": {
    "name": "ipython",
    "version": 3
   },
   "file_extension": ".py",
   "mimetype": "text/x-python",
   "name": "python",
   "nbconvert_exporter": "python",
   "pygments_lexer": "ipython3",
   "version": "3.7.3"
  }
 },
 "nbformat": 4,
 "nbformat_minor": 2
}
