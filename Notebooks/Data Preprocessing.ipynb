{
 "cells": [
  {
   "cell_type": "markdown",
   "metadata": {},
   "source": [
    "# Missing Dates"
   ]
  },
  {
   "cell_type": "code",
   "execution_count": 1,
   "metadata": {},
   "outputs": [
    {
     "name": "stderr",
     "output_type": "stream",
     "text": [
      "100%|██████████████████████████████████████████████████████████████████████████| 1776/1776 [00:00<00:00, 891038.74it/s]\n"
     ]
    }
   ],
   "source": [
    "import os\n",
    "from tqdm import tqdm\n",
    "from datetime import date, timedelta\n",
    "\n",
    "train_dates=[]\n",
    "valid_dates=[]\n",
    "flag=0\n",
    "\n",
    "for filename in tqdm(os.listdir('Data/tif files')):\n",
    "    temp_date=str(filename[-12:-8])+'-'+str(filename[-8:-6])+'-'+str(filename[-6:-4])\n",
    "    if flag==0:\n",
    "    \ttrain_dates.append(temp_date)\n",
    "    else :\n",
    "    \tvalid_dates.append(temp_date)\n",
    "    if filename == 'SWI_SMAP_I_20200327_20200329.tif':\n",
    "    \tflag = 1\n",
    "        \n",
    "train_dates_list = [date(int(i[0:4]),int(i[5:7]),int(i[8:])) for i in train_dates]\n",
    "valid_dates_list = [date(int(i[0:4]),int(i[5:7]),int(i[8:])) for i in valid_dates]"
   ]
  },
  {
   "cell_type": "code",
   "execution_count": 2,
   "metadata": {},
   "outputs": [],
   "source": [
    "start_date = train_dates_list[0]\n",
    "missing_train_dates=[]\n",
    "one_day = timedelta(days=1)\n",
    "while start_date < train_dates_list[-1]:\n",
    "    if start_date not in train_dates_list:\n",
    "        missing_train_dates.append(start_date)\n",
    "    start_date += one_day\n",
    "    \n",
    "train_dates_list = [str(i) for i in train_dates_list]\n",
    "missing_train_dates = [str(i) for i in missing_train_dates]\n",
    "train_dates_list = train_dates_list + missing_train_dates\n",
    "\n",
    "train_dates_list.sort()"
   ]
  },
  {
   "cell_type": "code",
   "execution_count": 3,
   "metadata": {},
   "outputs": [],
   "source": [
    "start_date = valid_dates_list[0]\n",
    "missing_valid_dates=[]\n",
    "one_day = timedelta(days=1)\n",
    "while start_date < valid_dates_list[-1]:\n",
    "    if start_date not in valid_dates_list:\n",
    "        missing_valid_dates.append(start_date)\n",
    "    start_date += one_day\n",
    "    \n",
    "valid_dates_list = [str(i) for i in valid_dates_list]\n",
    "missing_valid_dates = [str(i) for i in missing_valid_dates]\n",
    "valid_dates_list = valid_dates_list + missing_valid_dates\n",
    "\n",
    "valid_dates_list.sort()"
   ]
  },
  {
   "cell_type": "code",
   "execution_count": 4,
   "metadata": {},
   "outputs": [],
   "source": [
    "import pickle\n",
    "with open('train_dates.pkl', 'wb') as picklefile:\n",
    "    pickle.dump(train_dates_list, picklefile)\n",
    "with open('valid_dates.pkl', 'wb') as picklefile:\n",
    "    pickle.dump(valid_dates_list, picklefile)"
   ]
  },
  {
   "cell_type": "markdown",
   "metadata": {},
   "source": [
    "# Loading  Images"
   ]
  },
  {
   "cell_type": "code",
   "execution_count": 5,
   "metadata": {},
   "outputs": [
    {
     "name": "stderr",
     "output_type": "stream",
     "text": [
      "100%|██████████████████████████████████████████████████████████████████████████████| 1776/1776 [00:43<00:00, 40.45it/s]\n"
     ]
    },
    {
     "name": "stdout",
     "output_type": "stream",
     "text": [
      "(1822, 256, 272, 1)\n",
      "(139, 256, 272, 1)\n",
      "(1961, 256, 272, 1)\n"
     ]
    }
   ],
   "source": [
    "import os\n",
    "import pandas as pd\n",
    "import numpy as np\n",
    "import matplotlib\n",
    "import matplotlib.pyplot as plt\n",
    "import pickle\n",
    "import skimage\n",
    "from skimage.io import imread\n",
    "from tqdm import tqdm\n",
    "from datetime import date, timedelta\n",
    "\n",
    "train_data,valid_data = [],[]\n",
    "flag=0\n",
    "missing = np.full([256,272,1], np.nan)\n",
    "\n",
    "train_start = date(2015,4,4)\n",
    "train_end   = date(2020,3,29)\n",
    "valid_start = date(2020,5,24)\n",
    "valid_end   = date(2020,10,9)\n",
    "one_day = timedelta(days=1)\n",
    "\n",
    "for filename in tqdm(os.listdir('Data/tif files')):\n",
    "    # print(filename)\n",
    "    name= str(filename[-12:-8])+'-'+str(filename[-8:-6])+'-'+str(filename[-6:-4])\n",
    "    current = date(int(name[0:4]),int(name[5:7]),int(name[8:]))\n",
    "    if flag==0:\n",
    "        if current != train_start:\n",
    "            train_data.extend([missing]*int((current - train_start).days))\n",
    "            train_start = current\n",
    "    else:\n",
    "        if current != valid_start:\n",
    "            valid_data.extend([missing]*int((current - valid_start).days))\n",
    "            valid_start = current\n",
    "    img = imread('Data/tif files/'+filename)\n",
    "    img = np.expand_dims(img,axis=-1)\n",
    "    img = np.asarray(img)\n",
    "    if flag==0:\n",
    "        train_data.append(img)\n",
    "        train_start += one_day    \n",
    "    else :\n",
    "        valid_data.append(img)\n",
    "        valid_start += one_day\n",
    "    if filename == 'SWI_SMAP_I_20200327_20200329.tif':\n",
    "        flag = 1\n",
    "train_data=np.asarray(train_data)\n",
    "valid_data=np.asarray(valid_data)\n",
    "data = np.concatenate((train_data,valid_data),axis=0)\n",
    "print(train_data.shape)\n",
    "print(valid_data.shape)\n",
    "print(data.shape)\n",
    "\n",
    "with open('Data/data.pkl', 'wb') as picklefile:\n",
    "    pickle.dump(data, picklefile)\n",
    "with open('Data/train_data.pkl', 'wb') as picklefile:\n",
    "    pickle.dump(train_data, picklefile)\n",
    "with open('Data/valid_data.pkl', 'wb') as picklefile:\n",
    "    pickle.dump(valid_data, picklefile)"
   ]
  },
  {
   "cell_type": "markdown",
   "metadata": {},
   "source": [
    "# Mask Data"
   ]
  },
  {
   "cell_type": "code",
   "execution_count": 6,
   "metadata": {},
   "outputs": [],
   "source": [
    "import pandas as pd\n",
    "import numpy as np\n",
    "import skimage\n",
    "from skimage.io import imread\n",
    "from tqdm import tqdm\n",
    "import os\n",
    "import pickle\n",
    "\n",
    "with open('Data/train_data.pkl', 'rb') as picklefile:\n",
    "    train_data=pickle.load(picklefile)\n",
    "with open('Data/valid_data.pkl', 'rb') as picklefile:\n",
    "    valid_data=pickle.load(picklefile)\n",
    "\n",
    "train_data_nan = np.isnan(train_data)\n",
    "\n",
    "mask = train_data_nan[0]\n",
    "\n",
    "for i in train_data_nan:\n",
    "\tmask = mask & i\n",
    "\n",
    "mask_train_data,mask_valid_data = train_data,valid_data\n",
    "for i,a in enumerate(train_data):\n",
    "    a[mask==1]=0 \n",
    "    mask_train_data[i]=a\n",
    "\n",
    "mask_valid_data = mask_valid_data\n",
    "for i,a in enumerate(valid_data):\n",
    "    a[mask==1]=0 \n",
    "    mask_valid_data[i]=a\n",
    "\n",
    "mask_data=np.concatenate((mask_train_data,mask_valid_data),axis=0)\n",
    "with open('Data/masked_data.pkl', 'wb') as picklefile:\n",
    "    pickle.dump(mask_data, picklefile)\n",
    "with open('Data/masked_train_data.pkl', 'wb') as picklefile:\n",
    "    pickle.dump(mask_train_data, picklefile)\n",
    "with open('Data/masked_valid_data.pkl', 'wb') as picklefile:\n",
    "    pickle.dump(mask_valid_data, picklefile)\n"
   ]
  },
  {
   "cell_type": "markdown",
   "metadata": {},
   "source": [
    "# Imputing Missing Values"
   ]
  },
  {
   "cell_type": "code",
   "execution_count": 7,
   "metadata": {
    "scrolled": true
   },
   "outputs": [
    {
     "name": "stderr",
     "output_type": "stream",
     "text": [
      "100%|██████████████████████████████████████████████████████████████████████████| 69632/69632 [00:53<00:00, 1291.02it/s]\n",
      "100%|██████████████████████████████████████████████████████████████████████████| 69632/69632 [00:45<00:00, 1528.72it/s]\n"
     ]
    }
   ],
   "source": [
    "import pandas as pd\n",
    "import numpy as np\n",
    "import skimage\n",
    "from skimage.io import imread\n",
    "from tqdm import tqdm\n",
    "import os\n",
    "import pickle\n",
    "\n",
    "\n",
    "with open('Data/masked_valid_data.pkl', 'rb') as picklefile:\n",
    "    mask_valid_data=pickle.load(picklefile)\n",
    "\n",
    "with open('Data/masked_train_data.pkl', 'rb') as picklefile:\n",
    "    mask_train_data=pickle.load(picklefile)\n",
    "\n",
    "mask_train_data = np.reshape(mask_train_data,(len(mask_train_data),256*272))\n",
    "mask_valid_data = np.reshape(mask_valid_data,(len(mask_valid_data),256*272))\n",
    "\n",
    "imputed_train_data,imputed_valid_data = mask_train_data,mask_valid_data\n",
    "\n",
    "for i in tqdm(range(256*272)):\n",
    "    series= pd.Series(imputed_train_data[:,i])\n",
    "    series = series.interpolate(method='linear')\n",
    "    series = series.fillna(method='ffill')\n",
    "    series = series.fillna(method='bfill')\n",
    "    series = series.fillna(0)\n",
    "    imputed_train_data[:,i]=series.values\n",
    "\n",
    "for i in tqdm(range(256*272)):\n",
    "    series= pd.Series(imputed_valid_data[:,i])\n",
    "    series = series.interpolate(method='linear')\n",
    "    series = series.fillna(method='ffill')\n",
    "    series = series.fillna(method='bfill')\n",
    "    series = series.fillna(0)\n",
    "    imputed_valid_data[:,i]=series.values\n",
    "\n",
    "imputed_train_data = imputed_train_data.reshape(len(imputed_train_data),256,272,1)\n",
    "imputed_valid_data = imputed_valid_data.reshape(len(imputed_valid_data),256,272,1)\n",
    "imputed_data = np.concatenate((imputed_train_data,imputed_valid_data),axis=0)\n",
    "\n",
    "with open('Data/imputed_data.pkl', 'wb') as picklefile:\n",
    "    pickle.dump(imputed_data, picklefile)\n",
    "\n",
    "with open('Data/imputed_train_data.pkl', 'wb') as picklefile:\n",
    "    pickle.dump(imputed_train_data, picklefile)\n",
    "\n",
    "with open('Data/imputed_valid_data.pkl', 'wb') as picklefile:\n",
    "    pickle.dump(imputed_valid_data, picklefile)"
   ]
  },
  {
   "cell_type": "code",
   "execution_count": null,
   "metadata": {},
   "outputs": [],
   "source": []
  }
 ],
 "metadata": {
  "kernelspec": {
   "display_name": "Python 3",
   "language": "python",
   "name": "python3"
  },
  "language_info": {
   "codemirror_mode": {
    "name": "ipython",
    "version": 3
   },
   "file_extension": ".py",
   "mimetype": "text/x-python",
   "name": "python",
   "nbconvert_exporter": "python",
   "pygments_lexer": "ipython3",
   "version": "3.7.3"
  }
 },
 "nbformat": 4,
 "nbformat_minor": 2
}
